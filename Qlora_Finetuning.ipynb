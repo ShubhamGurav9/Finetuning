{
 "cells": [
  {
   "cell_type": "code",
   "execution_count": null,
   "metadata": {
    "id": "FfoorReUuTD6"
   },
   "outputs": [],
   "source": [
    "!pip install transformers peft\n",
    "!pip install huggingface_hub\n",
    "!pip install bitsandbytes\n",
    "!pip install trl pyarrow\n",
    "!pip install accelerate"
   ]
  },
  {
   "cell_type": "code",
   "execution_count": null,
   "metadata": {
    "id": "4-OPh0TFvEtQ"
   },
   "outputs": [],
   "source": [
    "import torch\n",
    "from transformers import BitsAndBytesConfig\n",
    "from transformers import AutoModelForCausalLM\n",
    "from transformers import Trainer\n",
    "from datasets import load_dataset  # Loading datasets for training\n",
    "from trl import SFTTrainer\n",
    "from peft import prepare_model_for_kbit_training\n",
    "from huggingface_hub import login\n",
    "import os\n",
    "import numpy as np\n",
    "import pandas as pd\n",
    "from transformers import (\n",
    "    AutoModelForCausalLM,\n",
    "    \\\n",
    "    AutoTokenizer,\n",
    "    BitsAndBytesConfig,\n",
    "    HfArgumentParser,\n",
    "    TrainingArguments,\n",
    "    pipeline,\n",
    "    logging,\n",
    ")\n",
    "from peft import LoraConfig, PeftModel\n",
    "import numpy as np\n",
    "from sklearn.metrics import precision_recall_fscore_support, accuracy_score"
   ]
  },
  {
   "cell_type": "code",
   "execution_count": null,
   "metadata": {
    "colab": {
     "base_uri": "https://localhost:8080/"
    },
    "id": "lMs5vuyfz4wC",
    "outputId": "cc70b7a8-3165-4802-d2f1-b5187b0db9f3"
   },
   "outputs": [],
   "source": [
    "login(token='')"
   ]
  },
  {
   "cell_type": "code",
   "execution_count": null,
   "metadata": {
    "id": "nqLHUujuvFQ3"
   },
   "outputs": [],
   "source": [
    "################################################################################\n",
    "# QLoRA parameters\n",
    "################################################################################\n",
    "\n",
    "# LoRA attention dimension\n",
    "lora_r = 64\n",
    "\n",
    "# Alpha parameter for LoRA scaling\n",
    "lora_alpha = 16\n",
    "\n",
    "# Dropout probability for LoRA layers\n",
    "lora_dropout = 0.1\n",
    "\n",
    "\n",
    "################################################################################\n",
    "# bitsandbytes parameters\n",
    "################################################################################\n",
    "\n",
    "# Activate 4-bit precision base model loading\n",
    "use_4bit = True\n",
    "\n",
    "# Compute dtype for 4-bit base models\n",
    "bnb_4bit_compute_dtype = \"float16\"\n",
    "\n",
    "# Quantization type (fp4 or nf4)\n",
    "bnb_4bit_quant_type = \"nf4\"\n",
    "\n",
    "# Activate nested quantization for 4-bit base models (double quantization)\n",
    "use_nested_quant = False\n"
   ]
  },
  {
   "cell_type": "code",
   "execution_count": null,
   "metadata": {
    "id": "B4-VXUYxndOP"
   },
   "outputs": [],
   "source": [
    "# Step 2 :Load tokenizer and model with QLoRA configuration\n",
    "compute_dtype = getattr(torch, bnb_4bit_compute_dtype)\n",
    "\n",
    "bnb_config = BitsAndBytesConfig(\n",
    "    load_in_4bit=use_4bit,\n",
    "    bnb_4bit_quant_type=bnb_4bit_quant_type,\n",
    "    bnb_4bit_compute_dtype=compute_dtype,\n",
    "    bnb_4bit_use_double_quant=use_nested_quant,\n",
    ")"
   ]
  },
  {
   "cell_type": "code",
   "execution_count": null,
   "metadata": {
    "id": "J4XLUcD7nRCK"
   },
   "outputs": [],
   "source": [
    "# Step 3 :Check GPU compatibility with bfloat16\n",
    "if compute_dtype == torch.float16 and use_4bit:\n",
    "    major, _ = torch.cuda.get_device_capability()\n",
    "    if major >= 8:\n",
    "        print(\"=\" * 80)\n",
    "        print(\"Your GPU supports bfloat16: accelerate training with bf16=True\")\n",
    "        print(\"=\" * 80)\n",
    "\n",
    "# Load the entire model on the GPU 0\n",
    "device_map = {\"\": 0}\n"
   ]
  },
  {
   "cell_type": "markdown",
   "metadata": {
    "id": "IXFy61PnByM5"
   },
   "source": []
  },
  {
   "cell_type": "code",
   "execution_count": null,
   "metadata": {
    "colab": {
     "base_uri": "https://localhost:8080/",
     "height": 113,
     "referenced_widgets": [
      "83662513935d4695b895f4c4c5c00ef6",
      "38d51092bc5e4d14bea54d845fa4b80f",
      "82645cb67ad44dd2bc90673bcf769eff",
      "b858578b3bcf46ac958ac048eecf663f",
      "23b5228493e34c3c906fc5f78bdbc8f9",
      "9eb883fecce64c9e96e8e189066fc239",
      "4ab105d3f7024365acbd228c3979e062",
      "faa2e6e9fca34e61bc7f2cd4be8c1650",
      "d346d874347847fa8f8de503192ccea4",
      "a56e51150e8c4506ab151ed247524700",
      "3c1e4a0d0dc54472b5c9e96c00803064",
      "23eeb8a3a11d45fe97b887b9d6f81181",
      "e998a4c2f17049babeacf9719291e525",
      "4e0928504f9e45cea089cb44e1f7e872",
      "40a63cac820c4c2ca0ac94ed67b55aba",
      "3c4f7a8c8f95445a8263d229a2aae2e2",
      "cef325e82e8e407cb23c81e9e32fd43b",
      "0323a0bc6674461a807c7bbb77a7dda6",
      "c84ab108976c4bada201c4818865638e",
      "9e5772c56414426cbefe5fdd517acea7",
      "4ed68175930c431da31921402f5dfa2d",
      "a6fd7ad0b62c4b59bec24e771aa5b9be",
      "fc9b7c9e187c4f8abb23acdeb5bee836",
      "2fbce65355c440779535af0260e04c5c",
      "a05a362c789e47af818d48b9b39893e2",
      "908585deac6d479d95bb50564b58f462",
      "9d6983fd0ed942d3b35c9ada6b8db9a1",
      "e027e0895fd24e8bb0c123c1601d8495",
      "3bf43525bdf3471b805d64ab7aef8c1d",
      "778752eb904d440f8f6cfed94880055f",
      "4226af0eadb641a2821b07abd915d674",
      "17c257fcdc1142ee90664d4bce5cd3d4",
      "abff39981c594548b4463ab62f5ef697"
     ]
    },
    "id": "EnZMZ8iivImP",
    "outputId": "d118d5ae-b8d6-4a44-ec65-b48fb0e779cf"
   },
   "outputs": [],
   "source": [
    "model_name= \"meta-llama/Llama-2-7b-hf\"\n",
    "\n",
    "\n",
    "# Step 4 :Load base model\n",
    "model = AutoModelForCausalLM.from_pretrained(\n",
    "    model_name,\n",
    "    quantization_config=bnb_config,\n",
    "    device_map=device_map\n",
    ")\n",
    "model.config.use_cache = False\n",
    "model.config.pretraining_tp = 1"
   ]
  },
  {
   "cell_type": "code",
   "execution_count": null,
   "metadata": {
    "colab": {
     "base_uri": "https://localhost:8080/",
     "height": 233,
     "referenced_widgets": [
      "f494f2886cf64480b4b3a4ead1e0f0d6",
      "641053d71ad640e0840058cb7f904a23",
      "be8afd3cd4914b5dbf5b60d8334b7c72",
      "4bd01ed45a364c45901a8932d6d6a4e7",
      "fba610f81ee14a34a62e61402f287faf",
      "143023c30cd8471e88804c3b9d26db62",
      "14d19bec47dd4238a3fb4963d7d63ed2",
      "a8d58d442a204e49ae07bc71c130efb7",
      "f06fbcc04f954194967398d00cef002e",
      "3101f49d0e5047a7be49012d6ebd19e1",
      "db3b4ea67d534747b8b36e4967f7439c",
      "e0ec6b510ccd4365b7c62e529edbe0da",
      "605a57f12e124fa29420dbfee894f3ac",
      "7032121aee3e472eb83c50141e127d51",
      "df9274e2cb4e41dca835acc69f9cabe6",
      "c44961397b904ba7994af16587bd51dc",
      "dbefdc9d9177451980237b40a2d8ae84",
      "aeaef4231aff420797f11a05ee768e3c",
      "f91830ae100e4e599989b75aaf9426e4",
      "029f0c25ceeb4967a46f45946db76113",
      "473467505895412b9e5593e36c0d8542",
      "cbf881e6548645f2b97dee4e61b224f3",
      "919c7d62887349a9ae39abdc6ba39a6d",
      "a220171b2f73445291b5e6a28ec5adb3",
      "deb2071ebf354af894c215cf9d180a01",
      "0538d62bd35f47f4a51728d337761bd2",
      "d8e7416f4bdc4cdfb104002d1375510a",
      "105d66cce22e4bd1a879c1dfd454cbf2",
      "01b6c17ec9ee4a3989fc0470fa2fa291",
      "e3885f9d6250482ebeafd0778c695023",
      "d3f0583914b443e5bd90c40e4d8d12bb",
      "02be5d18026642ad9714114a1a21279f",
      "fe9f494d92e04ee1acd71e6244e552b8",
      "84dbcf4fdc834903b9e75dd25ffca262",
      "797baf6ff7d64a51b7a36a8c428aca53",
      "f80e1d4036f844c5947264a96fee90e7",
      "254885ef0d574383ae28d08aa07d5c22",
      "6e293539209647ca804a06d81c84c4fb",
      "9af42e8f60cf49bfafd5b8fb332b3502",
      "494eec5926bf4a949d5b7894f31974d0",
      "b991668f20724dd1850d33913181387f",
      "105b1450c2a74b9c89c07660fd046c30",
      "6d334f03b34747a7a4f47699cdee9bb3",
      "ff5096d300a542e19c95e6dfefd6c78c",
      "19e4ed173fff4fa5b6ef8f4a467fe209",
      "f2613379f647462c87e2d35192d14e50",
      "90d09c14a338434a887ef3acaa920c91",
      "384401de73f8449b92ab2ddea961db43",
      "17bdd8943f0743e7acbf52444d96de72",
      "7993f575bab74838832264a81c4168af",
      "265625964eea4306a70040219304e366",
      "b7ec14cf36f14041bbd5222fadaf7556",
      "7cfd887c68de4a2a914e01c0a88ab77d",
      "216103c1276a45c7a442703896f3bc40",
      "4a3547c98f6946d286e154cffa939178"
     ]
    },
    "id": "Y6VLuzVbBola",
    "outputId": "49521ef5-5903-4de6-be59-ff6dde43cbf1"
   },
   "outputs": [],
   "source": [
    "# Step 5 :Load LLaMA tokenizer\n",
    "tokenizer = AutoTokenizer.from_pretrained(model_name, trust_remote_code=True)\n",
    "tokenizer.add_special_tokens({'pad_token': '[PAD]'})\n",
    "tokenizer.pad_token = tokenizer.eos_token\n",
    "tokenizer.padding_side = \"right\""
   ]
  },
  {
   "cell_type": "code",
   "execution_count": null,
   "metadata": {
    "id": "nkZj1nMI6H5A"
   },
   "outputs": [],
   "source": [
    "# Step 6 :Load LoRA configuration\n",
    "peft_config = LoraConfig(\n",
    "    lora_alpha=lora_alpha,\n",
    "    lora_dropout=lora_dropout,\n",
    "    r=lora_r,\n",
    "    bias=\"none\",\n",
    "    task_type=\"CAUSAL_LM\",\n",
    ")"
   ]
  },
  {
   "cell_type": "code",
   "execution_count": null,
   "metadata": {
    "id": "AkxPVVCFgzRE"
   },
   "outputs": [],
   "source": [
    "def compute_metrics(eval_pred):\n",
    "    logits, labels = eval_pred\n",
    "    predictions = np.argmax(logits, axis=-1)\n",
    "\n",
    "    # Calculate accuracy\n",
    "    accuracy = accuracy_score(labels, predictions)\n",
    "\n",
    "    # Calculate precision, recall, and F1 score for each class\n",
    "    precision, recall, f1, _ = precision_recall_fscore_support(labels, predictions, average='weighted')\n",
    "\n",
    "    # Calculate roughness score (standard deviation of the predicted class probabilities)\n",
    "    probs = np.exp(logits) / np.sum(np.exp(logits), axis=-1, keepdims=True)\n",
    "    predicted_probs = np.max(probs, axis=-1)\n",
    "    roughness_score = np.std(predicted_probs)\n",
    "\n",
    "    return {\n",
    "        \"accuracy\": accuracy,\n",
    "        \"precision\": precision,\n",
    "        \"recall\": recall,\n",
    "        \"f1\": f1,\n",
    "        \"roughness_score\": roughness_score,\n",
    "    }"
   ]
  },
  {
   "cell_type": "code",
   "execution_count": null,
   "metadata": {
    "id": "W8pchvrFiGnb"
   },
   "outputs": [],
   "source": [
    "################################################################################\n",
    "# TrainingArguments parameters\n",
    "################################################################################\n",
    "\n",
    "# Output directory where the model predictions and checkpoints will be stored\n",
    "output_dir = \"./results\"\n",
    "\n",
    "# Number of training epochs\n",
    "num_train_epochs = 1\n",
    "\n",
    "# Enable fp16/bf16 training (set bf16 to True with an A100)\n",
    "fp16 = False\n",
    "#fp16=True\n",
    "bf16 = True\n",
    "\n",
    "# Batch size per GPU for training\n",
    "per_device_train_batch_size = 1\n",
    "\n",
    "# Batch size per GPU for evaluation\n",
    "per_device_eval_batch_size = 1\n",
    "\n",
    "# Number of update steps to accumulate the gradients for\n",
    "gradient_accumulation_steps = 1\n",
    "\n",
    "# Enable gradient checkpointing\n",
    "gradient_checkpointing = True\n",
    "\n",
    "# Maximum gradient normal (gradient clipping)\n",
    "max_grad_norm = 0.3\n",
    "\n",
    "# Initial learning rate (AdamW optimizer)\n",
    "#learning_rate = 2e-4\n",
    "learning_rate = 3e-4\n",
    "\n",
    "# Weight decay to apply to all layers except bias/LayerNorm weights\n",
    "weight_decay = 0.001\n",
    "\n",
    "# Optimizer to use\n",
    "optim = \"paged_adamw_32bit\"\n",
    "\n",
    "# Learning rate schedule (constant a bit better than cosine)\n",
    "lr_scheduler_type = \"constant\"\n",
    "\n",
    "# Number of training steps (overrides num_train_epochs)\n",
    "max_steps = -1\n",
    "\n",
    "# Ratio of steps for a linear warmup (from 0 to learning rate)\n",
    "warmup_ratio = 0.03\n",
    "\n",
    "# Group sequences into batches with same length\n",
    "# Saves memory and speeds up training considerably\n",
    "group_by_length = True\n",
    "\n",
    "# Save checkpoint every X updates steps\n",
    "save_steps = 25\n",
    "\n",
    "# Log every X updates steps\n",
    "logging_steps = 25"
   ]
  },
  {
   "cell_type": "code",
   "execution_count": null,
   "metadata": {
    "id": "uluWKabaiIRs"
   },
   "outputs": [],
   "source": [
    "\n",
    "################################################################################\n",
    "# SFT parameters\n",
    "################################################################################\n",
    "\n",
    "# Maximum sequence length to use\n",
    "max_seq_length = None\n",
    "\n",
    "# Pack multiple short examples in the same input sequence to increase efficiency\n",
    "packing = False\n",
    "\n",
    "# Load the entire model on the GPU 0\n",
    "device_map = {\"\": 0}"
   ]
  },
  {
   "cell_type": "code",
   "execution_count": null,
   "metadata": {
    "id": "e_v4lLzUghtd"
   },
   "outputs": [],
   "source": [
    "# Step 7 :Set training parameters\n",
    "training_arguments = TrainingArguments(\n",
    "    output_dir=output_dir,\n",
    "    num_train_epochs= 15,\n",
    "    per_device_train_batch_size=per_device_train_batch_size,\n",
    "    gradient_accumulation_steps=gradient_accumulation_steps,\n",
    "    optim=optim,\n",
    "    save_steps=save_steps,\n",
    "    logging_steps=logging_steps,\n",
    "    learning_rate=learning_rate,\n",
    "    weight_decay=weight_decay,\n",
    "    fp16=fp16,\n",
    "    bf16=bf16,\n",
    "    max_grad_norm=max_grad_norm,\n",
    "    max_steps=max_steps,\n",
    "    warmup_ratio=warmup_ratio,\n",
    "    group_by_length=group_by_length,\n",
    "    lr_scheduler_type=lr_scheduler_type,\n",
    "    report_to=\"tensorboard\"\n",
    ")"
   ]
  },
  {
   "cell_type": "code",
   "execution_count": null,
   "metadata": {
    "id": "D5zQqImvlIdx"
   },
   "outputs": [],
   "source": [
    "train_dataset = load_dataset(\"csv\", data_files=\"/content/train_data.csv\", split=\"train\")"
   ]
  },
  {
   "cell_type": "code",
   "execution_count": null,
   "metadata": {
    "colab": {
     "base_uri": "https://localhost:8080/"
    },
    "id": "fMgEtRUhgiW8",
    "outputId": "1fba3c80-425c-45c2-b784-4c06455956f7"
   },
   "outputs": [],
   "source": [
    "#Step 8 :Set supervised fine-tuning parameters\n",
    "trainer = SFTTrainer(\n",
    "    model=model,\n",
    "    train_dataset=train_dataset,\n",
    "    peft_config=peft_config,\n",
    "    dataset_text_field=\"text\",\n",
    "    max_seq_length=max_seq_length,\n",
    "    tokenizer=tokenizer,\n",
    "    args=training_arguments,\n",
    "    packing=packing,\n",
    "    compute_metrics=compute_metrics,\n",
    ")"
   ]
  },
  {
   "cell_type": "code",
   "execution_count": null,
   "metadata": {
    "colab": {
     "base_uri": "https://localhost:8080/",
     "height": 864
    },
    "id": "vbFhs6mauxeM",
    "outputId": "ab20ae3d-bdb0-40b0-ce14-b61004dc21fb"
   },
   "outputs": [],
   "source": [
    "# Step 9 :Train model\n",
    "trainer.train()"
   ]
  }
 ],
 "metadata": {
  "accelerator": "GPU",
  "colab": {
   "gpuType": "T4",
   "provenance": []
  },
  "kernelspec": {
   "display_name": "Python 3",
   "name": "python3"
  },
  "language_info": {
   "name": "python"
  }
 },
 "nbformat": 4,
 "nbformat_minor": 0
}
